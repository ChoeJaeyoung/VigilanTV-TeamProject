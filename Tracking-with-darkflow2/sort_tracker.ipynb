{
 "cells": [
  {
   "cell_type": "code",
   "execution_count": null,
   "metadata": {},
   "outputs": [
    {
     "name": "stdout",
     "output_type": "stream",
     "text": [
      "Processing c:\\users\\elite\\pycharmprojects\\opencv\\tracking-with-darkflow\\darkflow\n",
      "Building wheels for collected packages: darkflow\n",
      "  Running setup.py bdist_wheel for darkflow: started\n",
      "  Running setup.py bdist_wheel for darkflow: finished with status 'done'\n",
      "  Stored in directory: C:\\Users\\Elite\\AppData\\Local\\Temp\\pip-ephem-wheel-cache-k8z5fe_u\\wheels\\94\\8e\\d5\\44bcaa6b10bc5a89a3dd26ffe285e79abbf93d290533c6e8fa\n",
      "Successfully built darkflow\n",
      "Installing collected packages: darkflow\n",
      "Successfully installed darkflow-1.0.0\n"
     ]
    }
   ],
   "source": [
    "!pip install ./darkflow --user"
   ]
  },
  {
   "cell_type": "code",
   "execution_count": 1,
   "metadata": {},
   "outputs": [
    {
     "name": "stderr",
     "output_type": "stream",
     "text": [
      "C:\\dev\\python\\Anaconda3\\lib\\site-packages\\h5py\\__init__.py:36: FutureWarning: Conversion of the second argument of issubdtype from `float` to `np.floating` is deprecated. In future, it will be treated as `np.float64 == np.dtype(float).type`.\n",
      "  from ._conv import register_converters as _register_converters\n"
     ]
    }
   ],
   "source": [
    "from darkflow.net.build import TFNet\n",
    "import cv2\n",
    "import numpy as np\n",
    "from sort.sort import *"
   ]
  },
  {
   "cell_type": "code",
   "execution_count": 2,
   "metadata": {},
   "outputs": [],
   "source": [
    "options = {\"model\": \"darkflow/cfg/yolo.cfg\", \"load\": \"darkflow/bin/yolov2.weights\", \"threshold\": 0.25}"
   ]
  },
  {
   "cell_type": "code",
   "execution_count": 3,
   "metadata": {},
   "outputs": [
    {
     "name": "stderr",
     "output_type": "stream",
     "text": [
      "C:\\Users\\Elite\\AppData\\Roaming\\Python\\Python36\\site-packages\\darkflow\\dark\\darknet.py:54: UserWarning: darkflow/cfg/yolov2.cfg not found, use darkflow/cfg/yolo.cfg instead\n",
      "  cfg_path, FLAGS.model))\n"
     ]
    },
    {
     "name": "stdout",
     "output_type": "stream",
     "text": [
      "Parsing darkflow/cfg/yolo.cfg\n",
      "Loading darkflow/bin/yolov2.weights ...\n",
      "Successfully identified 203934260 bytes\n",
      "Finished in 0.022905826568603516s\n",
      "Model has a coco model name, loading coco labels.\n",
      "\n",
      "Building net ...\n",
      "Source | Train? | Layer description                | Output size\n",
      "-------+--------+----------------------------------+---------------\n",
      "       |        | input                            | (?, 608, 608, 3)\n",
      " Load  |  Yep!  | conv 3x3p1_1  +bnorm  leaky      | (?, 608, 608, 32)\n",
      " Load  |  Yep!  | maxp 2x2p0_2                     | (?, 304, 304, 32)\n",
      " Load  |  Yep!  | conv 3x3p1_1  +bnorm  leaky      | (?, 304, 304, 64)\n",
      " Load  |  Yep!  | maxp 2x2p0_2                     | (?, 152, 152, 64)\n",
      " Load  |  Yep!  | conv 3x3p1_1  +bnorm  leaky      | (?, 152, 152, 128)\n",
      " Load  |  Yep!  | conv 1x1p0_1  +bnorm  leaky      | (?, 152, 152, 64)\n",
      " Load  |  Yep!  | conv 3x3p1_1  +bnorm  leaky      | (?, 152, 152, 128)\n",
      " Load  |  Yep!  | maxp 2x2p0_2                     | (?, 76, 76, 128)\n",
      " Load  |  Yep!  | conv 3x3p1_1  +bnorm  leaky      | (?, 76, 76, 256)\n",
      " Load  |  Yep!  | conv 1x1p0_1  +bnorm  leaky      | (?, 76, 76, 128)\n",
      " Load  |  Yep!  | conv 3x3p1_1  +bnorm  leaky      | (?, 76, 76, 256)\n",
      " Load  |  Yep!  | maxp 2x2p0_2                     | (?, 38, 38, 256)\n",
      " Load  |  Yep!  | conv 3x3p1_1  +bnorm  leaky      | (?, 38, 38, 512)\n",
      " Load  |  Yep!  | conv 1x1p0_1  +bnorm  leaky      | (?, 38, 38, 256)\n",
      " Load  |  Yep!  | conv 3x3p1_1  +bnorm  leaky      | (?, 38, 38, 512)\n",
      " Load  |  Yep!  | conv 1x1p0_1  +bnorm  leaky      | (?, 38, 38, 256)\n",
      " Load  |  Yep!  | conv 3x3p1_1  +bnorm  leaky      | (?, 38, 38, 512)\n",
      " Load  |  Yep!  | maxp 2x2p0_2                     | (?, 19, 19, 512)\n",
      " Load  |  Yep!  | conv 3x3p1_1  +bnorm  leaky      | (?, 19, 19, 1024)\n",
      " Load  |  Yep!  | conv 1x1p0_1  +bnorm  leaky      | (?, 19, 19, 512)\n",
      " Load  |  Yep!  | conv 3x3p1_1  +bnorm  leaky      | (?, 19, 19, 1024)\n",
      " Load  |  Yep!  | conv 1x1p0_1  +bnorm  leaky      | (?, 19, 19, 512)\n",
      " Load  |  Yep!  | conv 3x3p1_1  +bnorm  leaky      | (?, 19, 19, 1024)\n",
      " Load  |  Yep!  | conv 3x3p1_1  +bnorm  leaky      | (?, 19, 19, 1024)\n",
      " Load  |  Yep!  | conv 3x3p1_1  +bnorm  leaky      | (?, 19, 19, 1024)\n",
      " Load  |  Yep!  | concat [16]                      | (?, 38, 38, 512)\n",
      " Load  |  Yep!  | conv 1x1p0_1  +bnorm  leaky      | (?, 38, 38, 64)\n",
      " Load  |  Yep!  | local flatten 2x2                | (?, 19, 19, 256)\n",
      " Load  |  Yep!  | concat [27, 24]                  | (?, 19, 19, 1280)\n",
      " Load  |  Yep!  | conv 3x3p1_1  +bnorm  leaky      | (?, 19, 19, 1024)\n",
      " Load  |  Yep!  | conv 1x1p0_1    linear           | (?, 19, 19, 425)\n",
      "-------+--------+----------------------------------+---------------\n",
      "GPU mode with 0.85 usage\n",
      "Finished in 16.764972686767578s\n",
      "\n"
     ]
    }
   ],
   "source": [
    "tfnet = TFNet(options)"
   ]
  },
  {
   "cell_type": "code",
   "execution_count": 4,
   "metadata": {},
   "outputs": [],
   "source": [
    "def boxing(original_img, predictions):\n",
    "    newImage = np.copy(original_img)\n",
    "\n",
    "    for result in predictions:\n",
    "        if result['label'] != 'person':\n",
    "            continue\n",
    "        top_x = result['topleft']['x']\n",
    "        top_y = result['topleft']['y']\n",
    "\n",
    "        btm_x = result['bottomright']['x']\n",
    "        btm_y = result['bottomright']['y']\n",
    "\n",
    "        confidence = result['confidence']\n",
    "        label = result['label'] + \" \" + str(round(confidence, 3))\n",
    "\n",
    "        if confidence > 0.25:\n",
    "            newImage = cv2.rectangle(newImage, (top_x, top_y), (btm_x, btm_y), (255, 0, 0), 3)\n",
    "            newImage = cv2.putText(newImage, label, (top_x, top_y - 5), cv2.FONT_HERSHEY_COMPLEX_SMALL, 0.8,\n",
    "                                   (0, 230, 0), 1, cv2.LINE_AA)\n",
    "\n",
    "    return newImage"
   ]
  },
  {
   "cell_type": "code",
   "execution_count": 10,
   "metadata": {},
   "outputs": [],
   "source": [
    "def getPoint(predictions):\n",
    "    bboxes = []\n",
    "    for result in predictions:\n",
    "        if result['label'] != 'car':\n",
    "            continue\n",
    "        top_x = result['topleft']['x']\n",
    "        top_y = result['topleft']['y']\n",
    "\n",
    "        btm_x = result['bottomright']['x']\n",
    "        btm_y = result['bottomright']['y']\n",
    "        \n",
    "        score = result['confidence']\n",
    "\n",
    "        bbox = [top_x, top_y, btm_x, btm_y, score]\n",
    "        bboxes.append(bbox)\n",
    "        \n",
    "    bboxes = np.array(bboxes)\n",
    "        \n",
    "    return bboxes"
   ]
  },
  {
   "cell_type": "code",
   "execution_count": 6,
   "metadata": {},
   "outputs": [],
   "source": [
    "def id_box(image, boxes):\n",
    "    image = np.copy(image)\n",
    "    \n",
    "    for box in boxes:\n",
    "        top_x = int(box[0])\n",
    "        top_y = int(box[1])\n",
    "        btm_x = int(box[2])\n",
    "        btm_y = int(box[3])\n",
    "        \n",
    "        track_id = str(int(box[4]))\n",
    "        \n",
    "        image = cv2.rectangle(image, (top_x, top_y), (btm_x, btm_y), (255, 255, 255), 1)\n",
    "        image = cv2.putText(image, track_id, (top_x, top_y - 5), cv2.FONT_HERSHEY_COMPLEX_SMALL, 0.8, (255, 255, 255), 1)\n",
    "        \n",
    "    return image\n"
   ]
  },
  {
   "cell_type": "code",
   "execution_count": 12,
   "metadata": {},
   "outputs": [],
   "source": [
    "cap = cv2.VideoCapture('darkflow/car2.mp4')\n",
    "width = cap.get(cv2.CAP_PROP_FRAME_WIDTH)\n",
    "height = cap.get(cv2.CAP_PROP_FRAME_HEIGHT)\n",
    "tracker = Sort()\n",
    "\n",
    "while True:\n",
    "    # Capture frame-by-frame\n",
    "    ret, frame = cap.read()\n",
    "\n",
    "    if ret == True:\n",
    "        (H, W) = frame.shape[:2]\n",
    "        matrix = cv2.getRotationMatrix2D((W/2, H/2), 270, 1)\n",
    "        frame = cv2.warpAffine(frame, matrix, None)\n",
    "        \n",
    "        frame = np.asarray(frame)\n",
    "        results = tfnet.return_predict(frame)\n",
    "        dets = getPoint(results)\n",
    "        trackers_id = tracker.update(dets)\n",
    "        tracking = id_box(frame, trackers_id)\n",
    "        \n",
    "        \n",
    "        # Display the resulting frame\n",
    "        cv2.imshow('frame', tracking)\n",
    "        if cv2.waitKey(1) & 0xFF == ord('q'):\n",
    "            break\n",
    "    else:\n",
    "        break\n",
    "\n",
    "# When everything done, release the capture\n",
    "cap.release()\n",
    "cv2.destroyAllWindows()"
   ]
  },
  {
   "cell_type": "code",
   "execution_count": 48,
   "metadata": {},
   "outputs": [
    {
     "data": {
      "text/plain": [
       "[[77, 148, 578, 476], [23, 339, 141, 441], [1, 385, 44, 441]]"
      ]
     },
     "execution_count": 48,
     "metadata": {},
     "output_type": "execute_result"
    }
   ],
   "source": [
    "point"
   ]
  },
  {
   "cell_type": "code",
   "execution_count": 47,
   "metadata": {},
   "outputs": [
    {
     "data": {
      "text/plain": [
       "array([[  6., 292.,  97., 388.,  44.],\n",
       "       [258., 281., 341., 363.,  43.],\n",
       "       [141.,  89., 639., 479.,  42.]])"
      ]
     },
     "execution_count": 47,
     "metadata": {},
     "output_type": "execute_result"
    }
   ],
   "source": [
    "trackers_id"
   ]
  },
  {
   "cell_type": "code",
   "execution_count": null,
   "metadata": {},
   "outputs": [],
   "source": []
  },
  {
   "cell_type": "code",
   "execution_count": null,
   "metadata": {},
   "outputs": [],
   "source": []
  }
 ],
 "metadata": {
  "kernelspec": {
   "display_name": "Python 3",
   "language": "python",
   "name": "python3"
  },
  "language_info": {
   "codemirror_mode": {
    "name": "ipython",
    "version": 3
   },
   "file_extension": ".py",
   "mimetype": "text/x-python",
   "name": "python",
   "nbconvert_exporter": "python",
   "pygments_lexer": "ipython3",
   "version": "3.6.5"
  }
 },
 "nbformat": 4,
 "nbformat_minor": 2
}
